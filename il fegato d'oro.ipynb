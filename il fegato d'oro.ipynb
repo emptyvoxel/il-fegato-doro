{
 "cells": [
  {
   "cell_type": "code",
   "execution_count": 1,
   "id": "d7315772-5715-43ea-8531-db89e6685e6b",
   "metadata": {},
   "outputs": [
    {
     "name": "stdout",
     "output_type": "stream",
     "text": [
      "Using matplotlib backend: module://matplotlib_inline.backend_inline\n"
     ]
    }
   ],
   "source": [
    "# Importa os módulos para a análise dos dados\n",
    "%matplotlib\n",
    "import numpy\n",
    "import pandas\n",
    "\n",
    "pandas.options.mode.chained_assignment = None"
   ]
  },
  {
   "cell_type": "code",
   "execution_count": 2,
   "id": "18c47a77-3c78-4df9-8d83-4a4e897c7bdb",
   "metadata": {},
   "outputs": [],
   "source": [
    "SEMANA = 'Domingo Segunda Terça VILLA Quinta Sexta Sábado'.split(' ')\n",
    "WEEK = {\n",
    "    'Monday': 'Segunda', \n",
    "    'Tuesday': 'Terça', \n",
    "    'Wednesday': 'VILLA', \n",
    "    'Thursday': 'Quinta',\n",
    "    'Friday': 'Sexta',\n",
    "    'Saturday': 'Sábado',\n",
    "    'Sunday': 'Domingo'\n",
    "}\n",
    "\n",
    "# Derivei a fórmula 4n-2[n/3] pra explicar a progressão 1 é 4, 3 é 10. Tenho muito tempo livre.\n",
    "# Como a função floor não tem inverso, tive que fazer uma tabela de valores\n",
    "VALORES = [(4*n - 2*int(n/3)) for n in range(1, 20)]\n",
    "\n",
    "BEBIDAS = {\n",
    "    'litrao': 1000, # mL\n",
    "    'petra': 269, # mL\n",
    "    'corote': 500, # mL\n",
    "    'chopp': 0 # verificar mL do copo\n",
    "}\n",
    "\n",
    "def inicializar_entradas(csv: str, threshold: float) -> pandas.core.frame.DataFrame:\n",
    "    # Importa o extrato completo\n",
    "    extrato = pandas.read_csv(csv)\n",
    "    \n",
    "    # Converte o valor dos pix pra float\n",
    "    extrato['Valor'] = extrato['Valor'].str.replace(',', '')\n",
    "    extrato['Valor'] = extrato['Valor'].astype(float)\n",
    "\n",
    "    # Mantém apenas os pix de entrada e cujo valor esteja abaixo de 100\n",
    "    entradas = extrato[extrato['Valor'] > 0]\n",
    "    entradas = entradas[entradas['Valor'] < threshold]\n",
    "\n",
    "    # Converte as datas para o tipo datetime e organiza em ordem ascendente\n",
    "    entradas['Data Lançamento'] = pandas.to_datetime(entradas['Data Lançamento'], dayfirst=True).dt.normalize()\n",
    "    entradas = entradas.sort_values(by='Data Lançamento', ascending=True)\n",
    "\n",
    "    # Adiciona uma coluna para os dias da semana\n",
    "    entradas.loc[:, 'Dia'] = entradas['Data Lançamento'].dt.day_name()\n",
    "    entradas['Dia'] = entradas['Dia'].replace(WEEK)\n",
    "\n",
    "    # Normaliza todos os nomes para uppercase\n",
    "    entradas['Nome'] = entradas['Nome'].str.upper()\n",
    "\n",
    "    return entradas"
   ]
  },
  {
   "cell_type": "code",
   "execution_count": 3,
   "id": "76cd8cd1-2193-4757-826f-400409435f76",
   "metadata": {},
   "outputs": [],
   "source": [
    "# Converte o pix em mL de bebida consumida\n",
    "def pix_to_mL(pix):\n",
    "    # Verifica se é litrão\n",
    "    if pix == 15:\n",
    "        return 1000\n",
    " \n",
    "    return 269 * (VALORES.index(pix) + 1)\n",
    "\n",
    "# Converte a entrada em pix em mL de EtOH consumido com base no teor alcoólico\n",
    "def pix_to_EtOH(pix):\n",
    "    # Verifica se é litrão\n",
    "    if pix == 15:\n",
    "        return 1000 * 5/100\n",
    "\n",
    "    return (269 * (VALORES.index(pix) + 1)) * 4.8/100"
   ]
  },
  {
   "cell_type": "code",
   "execution_count": 4,
   "id": "46911e2b-5107-4865-86b6-34df4056832c",
   "metadata": {},
   "outputs": [],
   "source": [
    "# Calcula o consumo de álcool/bebida para uma pessoa\n",
    "def calcular_alcoolismo(extrato, nome, func):\n",
    "    # Filtra o extrato para incluir apenas a pessoa e os valores válidos\n",
    "    pessoa = extrato[extrato['Nome'] == nome]\n",
    "    pessoa = pessoa[pessoa['Valor'].isin(VALORES+[15])]\n",
    "\n",
    "    # Calculo e retorna o consumo total\n",
    "    consumo = pessoa.groupby('Valor')['Valor'].transform(lambda x: x.apply(func)).sum()\n",
    "    return consumo"
   ]
  },
  {
   "cell_type": "code",
   "execution_count": 5,
   "id": "fe0be0b4-82b4-455d-b83d-fc72a9003ad4",
   "metadata": {},
   "outputs": [],
   "source": [
    "def alcoolismo_global(extrato, func):\n",
    "    # Filtra apenas os pix que já foram validados\n",
    "    pix_validos = extrato[extrato['Valor'].isin(VALORES + [15])]\n",
    "\n",
    "    # Cria uma nova coluna calculando o consumo por transferência\n",
    "    pix_validos.loc[:, 'Consumo (mL)'] = pix_validos['Valor'].transform(lambda x: x.apply(func))\n",
    "\n",
    "    # Agrupa e soma o consumo total de cada pessoa\n",
    "    consumo = pix_validos.groupby('Nome')['Consumo (mL)'].sum()\n",
    "    consumo = consumo.sort_values(ascending=False)\n",
    "\n",
    "    return consumo"
   ]
  }
 ],
 "metadata": {
  "kernelspec": {
   "display_name": "Python 3 (ipykernel)",
   "language": "python",
   "name": "python3"
  },
  "language_info": {
   "codemirror_mode": {
    "name": "ipython",
    "version": 3
   },
   "file_extension": ".py",
   "mimetype": "text/x-python",
   "name": "python",
   "nbconvert_exporter": "python",
   "pygments_lexer": "ipython3",
   "version": "3.12.7"
  }
 },
 "nbformat": 4,
 "nbformat_minor": 5
}
